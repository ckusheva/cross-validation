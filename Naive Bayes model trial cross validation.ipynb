{
 "cells": [
  {
   "cell_type": "code",
   "execution_count": 1,
   "metadata": {},
   "outputs": [],
   "source": [
    "%matplotlib inline\n",
    "import numpy as np\n",
    "import pandas as pd\n",
    "import scipy\n",
    "import sklearn\n",
    "import matplotlib.pyplot as plt\n",
    "import seaborn as sns"
   ]
  },
  {
   "cell_type": "code",
   "execution_count": 2,
   "metadata": {},
   "outputs": [],
   "source": [
    "data_path = (\"https://raw.githubusercontent.com/ckusheva/Sentiment-labelled/\"\n",
    "             \"master/amazon_cells_labelled.txt\"\n",
    "            )\n",
    "sms_raw = pd.read_csv(data_path, delimiter= '\\t', header=None)\n",
    "sms_raw.columns = ['message', 'label']"
   ]
  },
  {
   "cell_type": "code",
   "execution_count": 3,
   "metadata": {},
   "outputs": [],
   "source": [
    "keywords = ['works', 'great', 'good', 'happy', 'satisfied', 'well', \n",
    "            'fine','excellent', 'loved', 'absolutely', 'highly', 'recommend', \n",
    "            'recommended', 'nice', 'love', 'handy', 'like', 'bad', 'worst']\n",
    "sms_raw['allcaps'] = sms_raw.message.str.isupper()\n",
    "\n",
    "for key in keywords:\n",
    "    # Note that we add spaces around the key so that we're getting the word,\n",
    "    # not just pattern matching.\n",
    "    sms_raw[str(key)] = sms_raw.message.str.contains(\n",
    "        ' ' + str(key) + ' ',\n",
    "        case=False\n",
    "    )"
   ]
  },
  {
   "cell_type": "code",
   "execution_count": 4,
   "metadata": {},
   "outputs": [],
   "source": [
    "sms_raw[['works', 'great', 'good', 'happy', 'satisfied', 'well', 'fine','excellent', 'allcaps', 'loved', 'absolutely', 'highly', 'recommend', 'recommended', 'nice', 'love', 'handy', 'like', 'bad', 'worst']] = sms_raw[['works', 'great', 'good', 'happy', 'satisfied', 'well', 'fine', 'excellent', 'allcaps', 'loved', 'absolutely', 'highly', 'recommend', 'recommended', 'nice', 'love', 'handy', 'like', 'bad', 'worst']].astype(int)\n"
   ]
  },
  {
   "cell_type": "code",
   "execution_count": 5,
   "metadata": {},
   "outputs": [
    {
     "data": {
      "text/html": [
       "<div>\n",
       "<style scoped>\n",
       "    .dataframe tbody tr th:only-of-type {\n",
       "        vertical-align: middle;\n",
       "    }\n",
       "\n",
       "    .dataframe tbody tr th {\n",
       "        vertical-align: top;\n",
       "    }\n",
       "\n",
       "    .dataframe thead th {\n",
       "        text-align: right;\n",
       "    }\n",
       "</style>\n",
       "<table border=\"1\" class=\"dataframe\">\n",
       "  <thead>\n",
       "    <tr style=\"text-align: right;\">\n",
       "      <th></th>\n",
       "      <th>message</th>\n",
       "      <th>label</th>\n",
       "      <th>allcaps</th>\n",
       "      <th>works</th>\n",
       "      <th>great</th>\n",
       "      <th>good</th>\n",
       "      <th>happy</th>\n",
       "      <th>satisfied</th>\n",
       "      <th>well</th>\n",
       "      <th>fine</th>\n",
       "      <th>...</th>\n",
       "      <th>absolutely</th>\n",
       "      <th>highly</th>\n",
       "      <th>recommend</th>\n",
       "      <th>recommended</th>\n",
       "      <th>nice</th>\n",
       "      <th>love</th>\n",
       "      <th>handy</th>\n",
       "      <th>like</th>\n",
       "      <th>bad</th>\n",
       "      <th>worst</th>\n",
       "    </tr>\n",
       "  </thead>\n",
       "  <tbody>\n",
       "    <tr>\n",
       "      <th>0</th>\n",
       "      <td>So there is no way for me to plug it in here i...</td>\n",
       "      <td>0</td>\n",
       "      <td>0</td>\n",
       "      <td>0</td>\n",
       "      <td>0</td>\n",
       "      <td>0</td>\n",
       "      <td>0</td>\n",
       "      <td>0</td>\n",
       "      <td>0</td>\n",
       "      <td>0</td>\n",
       "      <td>...</td>\n",
       "      <td>0</td>\n",
       "      <td>0</td>\n",
       "      <td>0</td>\n",
       "      <td>0</td>\n",
       "      <td>0</td>\n",
       "      <td>0</td>\n",
       "      <td>0</td>\n",
       "      <td>0</td>\n",
       "      <td>0</td>\n",
       "      <td>0</td>\n",
       "    </tr>\n",
       "    <tr>\n",
       "      <th>1</th>\n",
       "      <td>Good case, Excellent value.</td>\n",
       "      <td>1</td>\n",
       "      <td>0</td>\n",
       "      <td>0</td>\n",
       "      <td>0</td>\n",
       "      <td>0</td>\n",
       "      <td>0</td>\n",
       "      <td>0</td>\n",
       "      <td>0</td>\n",
       "      <td>0</td>\n",
       "      <td>...</td>\n",
       "      <td>0</td>\n",
       "      <td>0</td>\n",
       "      <td>0</td>\n",
       "      <td>0</td>\n",
       "      <td>0</td>\n",
       "      <td>0</td>\n",
       "      <td>0</td>\n",
       "      <td>0</td>\n",
       "      <td>0</td>\n",
       "      <td>0</td>\n",
       "    </tr>\n",
       "    <tr>\n",
       "      <th>2</th>\n",
       "      <td>Great for the jawbone.</td>\n",
       "      <td>1</td>\n",
       "      <td>0</td>\n",
       "      <td>0</td>\n",
       "      <td>0</td>\n",
       "      <td>0</td>\n",
       "      <td>0</td>\n",
       "      <td>0</td>\n",
       "      <td>0</td>\n",
       "      <td>0</td>\n",
       "      <td>...</td>\n",
       "      <td>0</td>\n",
       "      <td>0</td>\n",
       "      <td>0</td>\n",
       "      <td>0</td>\n",
       "      <td>0</td>\n",
       "      <td>0</td>\n",
       "      <td>0</td>\n",
       "      <td>0</td>\n",
       "      <td>0</td>\n",
       "      <td>0</td>\n",
       "    </tr>\n",
       "    <tr>\n",
       "      <th>3</th>\n",
       "      <td>Tied to charger for conversations lasting more...</td>\n",
       "      <td>0</td>\n",
       "      <td>0</td>\n",
       "      <td>0</td>\n",
       "      <td>0</td>\n",
       "      <td>0</td>\n",
       "      <td>0</td>\n",
       "      <td>0</td>\n",
       "      <td>0</td>\n",
       "      <td>0</td>\n",
       "      <td>...</td>\n",
       "      <td>0</td>\n",
       "      <td>0</td>\n",
       "      <td>0</td>\n",
       "      <td>0</td>\n",
       "      <td>0</td>\n",
       "      <td>0</td>\n",
       "      <td>0</td>\n",
       "      <td>0</td>\n",
       "      <td>0</td>\n",
       "      <td>0</td>\n",
       "    </tr>\n",
       "    <tr>\n",
       "      <th>4</th>\n",
       "      <td>The mic is great.</td>\n",
       "      <td>1</td>\n",
       "      <td>0</td>\n",
       "      <td>0</td>\n",
       "      <td>0</td>\n",
       "      <td>0</td>\n",
       "      <td>0</td>\n",
       "      <td>0</td>\n",
       "      <td>0</td>\n",
       "      <td>0</td>\n",
       "      <td>...</td>\n",
       "      <td>0</td>\n",
       "      <td>0</td>\n",
       "      <td>0</td>\n",
       "      <td>0</td>\n",
       "      <td>0</td>\n",
       "      <td>0</td>\n",
       "      <td>0</td>\n",
       "      <td>0</td>\n",
       "      <td>0</td>\n",
       "      <td>0</td>\n",
       "    </tr>\n",
       "  </tbody>\n",
       "</table>\n",
       "<p>5 rows × 22 columns</p>\n",
       "</div>"
      ],
      "text/plain": [
       "                                             message  label  allcaps  works  \\\n",
       "0  So there is no way for me to plug it in here i...      0        0      0   \n",
       "1                        Good case, Excellent value.      1        0      0   \n",
       "2                             Great for the jawbone.      1        0      0   \n",
       "3  Tied to charger for conversations lasting more...      0        0      0   \n",
       "4                                  The mic is great.      1        0      0   \n",
       "\n",
       "   great  good  happy  satisfied  well  fine  ...  absolutely  highly  \\\n",
       "0      0     0      0          0     0     0  ...           0       0   \n",
       "1      0     0      0          0     0     0  ...           0       0   \n",
       "2      0     0      0          0     0     0  ...           0       0   \n",
       "3      0     0      0          0     0     0  ...           0       0   \n",
       "4      0     0      0          0     0     0  ...           0       0   \n",
       "\n",
       "   recommend  recommended  nice  love  handy  like  bad  worst  \n",
       "0          0            0     0     0      0     0    0      0  \n",
       "1          0            0     0     0      0     0    0      0  \n",
       "2          0            0     0     0      0     0    0      0  \n",
       "3          0            0     0     0      0     0    0      0  \n",
       "4          0            0     0     0      0     0    0      0  \n",
       "\n",
       "[5 rows x 22 columns]"
      ]
     },
     "execution_count": 5,
     "metadata": {},
     "output_type": "execute_result"
    }
   ],
   "source": [
    "#sms_raw['label'] = (sms_raw['spam'] == 'spam') true false converter\n",
    "sms_raw.head()\n"
   ]
  },
  {
   "cell_type": "code",
   "execution_count": 6,
   "metadata": {},
   "outputs": [
    {
     "data": {
      "text/plain": [
       "<matplotlib.axes._subplots.AxesSubplot at 0x10d910b0>"
      ]
     },
     "execution_count": 6,
     "metadata": {},
     "output_type": "execute_result"
    },
    {
     "data": {
      "image/png": "[encoded data removed]",
      "text/plain": [
       "<Figure size 432x288 with 2 Axes>"
      ]
     },
     "metadata": {
      "needs_background": "light"
     },
     "output_type": "display_data"
    }
   ],
   "source": [
    "sns.heatmap(sms_raw.corr())"
   ]
  },
  {
   "cell_type": "code",
   "execution_count": 7,
   "metadata": {},
   "outputs": [],
   "source": [
    "data = sms_raw[keywords + ['allcaps']]\n",
    "target = sms_raw['label']"
   ]
  },
  {
   "cell_type": "code",
   "execution_count": 8,
   "metadata": {},
   "outputs": [
    {
     "name": "stdout",
     "output_type": "stream",
     "text": [
      "Number of mislabeled points out of a total 1000 points : 355\n"
     ]
    }
   ],
   "source": [
    "# Our data is binary / boolean, so we're importing the Bernoulli classifier.\n",
    "from sklearn.naive_bayes import BernoulliNB\n",
    "\n",
    "# Instantiate our model and store it in a new variable.\n",
    "bnb = BernoulliNB()\n",
    "\n",
    "# Fit our model to the data.\n",
    "bnb.fit(data, target)\n",
    "\n",
    "# Classify, storing the result in a new variable.\n",
    "y_pred = bnb.predict(data)\n",
    "\n",
    "# Display our results.\n",
    "print(\"Number of mislabeled points out of a total {} points : {}\".format(\n",
    "    data.shape[0],\n",
    "    (target != y_pred).sum()\n",
    "))"
   ]
  },
  {
   "cell_type": "code",
   "execution_count": 9,
   "metadata": {},
   "outputs": [
    {
     "data": {
      "text/plain": [
       "array([0.68, 0.64, 0.63, 0.66, 0.67, 0.62, 0.7 , 0.56, 0.67, 0.6 ])"
      ]
     },
     "execution_count": 9,
     "metadata": {},
     "output_type": "execute_result"
    }
   ],
   "source": [
    "from sklearn.model_selection import cross_val_score\n",
    "cross_val_score(bnb, data, target, cv=10)"
   ]
  },
  {
   "cell_type": "code",
   "execution_count": 10,
   "metadata": {},
   "outputs": [
    {
     "data": {
      "text/plain": [
       "array([[-0.53976513, -0.87439365],\n",
       "       [-2.02087779, -0.14218481],\n",
       "       [-0.53976513, -0.87439365],\n",
       "       ...,\n",
       "       [-0.53976513, -0.87439365],\n",
       "       [-0.53976513, -0.87439365],\n",
       "       [-0.53976513, -0.87439365]])"
      ]
     },
     "execution_count": 10,
     "metadata": {},
     "output_type": "execute_result"
    }
   ],
   "source": [
    "bnb.predict_log_proba(data)\n"
   ]
  },
  {
   "cell_type": "code",
   "execution_count": 11,
   "metadata": {},
   "outputs": [
    {
     "name": "stdout",
     "output_type": "stream",
     "text": [
      "     works  great  good  happy  satisfied  well  fine  excellent  loved  \\\n",
      "0        0      0     0      0          0     0     0          0      0   \n",
      "1        0      0     0      0          0     0     0          1      0   \n",
      "2        0      0     0      0          0     0     0          0      0   \n",
      "3        0      0     0      0          0     0     0          0      0   \n",
      "4        0      0     0      0          0     0     0          0      0   \n",
      "5        0      0     0      0          0     0     0          0      0   \n",
      "6        0      0     0      0          0     0     0          0      0   \n",
      "7        0      0     0      0          0     0     0          0      0   \n",
      "8        0      0     0      0          0     0     0          0      0   \n",
      "9        0      0     0      0          0     0     0          0      0   \n",
      "10       0      0     0      0          0     0     0          0      0   \n",
      "11       0      0     0      0          0     0     0          0      0   \n",
      "12       0      0     0      0          0     0     0          0      0   \n",
      "13       0      0     1      0          0     0     0          0      0   \n",
      "14       0      0     0      0          0     0     0          0      0   \n",
      "15       0      0     0      0          0     0     0          0      0   \n",
      "16       0      0     0      0          0     0     0          0      0   \n",
      "17       0      0     0      0          0     0     0          0      0   \n",
      "18       0      0     0      0          0     0     0          0      0   \n",
      "19       0      0     0      0          0     0     0          0      0   \n",
      "20       0      0     0      0          0     0     0          0      0   \n",
      "21       0      0     0      0          0     0     0          0      1   \n",
      "22       0      0     0      0          0     0     0          0      0   \n",
      "23       0      0     0      0          0     0     0          0      0   \n",
      "24       0      0     0      0          0     0     0          0      0   \n",
      "25       0      0     0      0          0     0     0          0      0   \n",
      "26       0      0     0      0          0     0     0          0      0   \n",
      "27       0      0     0      0          0     0     0          0      0   \n",
      "28       0      0     0      0          0     0     0          0      0   \n",
      "29       0      0     0      0          0     0     0          0      0   \n",
      "..     ...    ...   ...    ...        ...   ...   ...        ...    ...   \n",
      "970      0      0     0      0          0     0     0          0      0   \n",
      "971      0      0     0      0          0     0     0          0      0   \n",
      "972      0      0     0      0          0     0     0          0      0   \n",
      "973      0      0     0      0          0     0     0          0      0   \n",
      "974      0      0     0      0          0     0     0          0      0   \n",
      "975      0      0     0      0          0     0     0          0      0   \n",
      "976      0      0     0      0          0     0     0          0      0   \n",
      "977      0      0     0      0          0     0     0          0      0   \n",
      "978      0      0     0      0          0     0     0          0      0   \n",
      "979      0      0     0      0          0     0     0          0      0   \n",
      "980      0      0     0      0          0     0     0          0      0   \n",
      "981      0      0     0      0          0     0     0          0      0   \n",
      "982      0      0     0      0          0     0     0          0      0   \n",
      "983      0      0     0      0          0     0     0          0      0   \n",
      "984      0      0     0      0          0     0     0          0      0   \n",
      "985      0      0     0      0          0     0     0          0      0   \n",
      "986      0      0     0      0          0     0     0          0      0   \n",
      "987      0      0     0      0          0     0     0          0      0   \n",
      "988      0      0     0      0          0     0     0          0      0   \n",
      "989      0      0     0      0          0     0     0          0      0   \n",
      "990      0      0     0      0          0     0     0          0      0   \n",
      "991      0      0     0      0          0     0     0          0      0   \n",
      "992      0      0     0      0          0     0     0          0      0   \n",
      "993      0      0     0      0          0     0     0          0      0   \n",
      "994      0      0     0      0          0     0     0          0      0   \n",
      "995      0      0     0      0          0     0     0          0      0   \n",
      "996      0      0     0      0          0     0     0          0      0   \n",
      "997      0      0     0      0          0     0     0          0      0   \n",
      "998      0      0     0      0          0     0     0          0      0   \n",
      "999      0      0     0      0          0     0     0          0      0   \n",
      "\n",
      "     absolutely  highly  recommend  recommended  nice  love  handy  like  bad  \\\n",
      "0             0       0          0            0     0     0      0     0    0   \n",
      "1             0       0          0            0     0     0      0     0    0   \n",
      "2             0       0          0            0     0     0      0     0    0   \n",
      "3             0       0          0            0     0     0      0     0    0   \n",
      "4             0       0          0            0     0     0      0     0    0   \n",
      "5             0       0          0            0     0     0      0     0    0   \n",
      "6             0       0          0            0     0     0      0     0    0   \n",
      "7             0       0          0            0     0     0      0     0    0   \n",
      "8             0       0          0            0     0     0      0     0    0   \n",
      "9             0       0          0            0     0     0      0     0    0   \n",
      "10            0       0          0            0     0     0      0     0    0   \n",
      "11            0       0          0            0     0     0      0     0    0   \n",
      "12            0       0          0            0     0     0      0     0    0   \n",
      "13            0       0          0            0     0     0      0     0    0   \n",
      "14            0       0          0            0     0     0      0     0    0   \n",
      "15            0       0          1            0     0     0      0     0    0   \n",
      "16            0       0          0            0     0     0      0     0    0   \n",
      "17            0       0          0            0     0     0      0     0    0   \n",
      "18            0       0          0            0     0     0      0     0    0   \n",
      "19            0       0          0            0     0     0      0     0    0   \n",
      "20            0       0          0            0     0     0      0     0    0   \n",
      "21            1       0          0            0     0     0      0     0    0   \n",
      "22            0       0          0            0     0     0      0     0    0   \n",
      "23            0       0          0            0     0     0      0     0    0   \n",
      "24            0       0          0            0     0     0      0     0    0   \n",
      "25            0       0          0            0     0     0      0     0    0   \n",
      "26            0       0          0            0     0     0      0     0    0   \n",
      "27            0       0          0            0     0     0      0     0    0   \n",
      "28            0       0          0            0     0     0      0     0    0   \n",
      "29            0       0          0            0     0     0      0     0    0   \n",
      "..          ...     ...        ...          ...   ...   ...    ...   ...  ...   \n",
      "970           0       0          0            0     0     0      0     0    0   \n",
      "971           0       0          0            0     0     0      0     0    0   \n",
      "972           0       0          0            0     0     0      0     0    0   \n",
      "973           0       0          0            0     0     0      0     0    0   \n",
      "974           0       0          0            0     0     0      0     0    0   \n",
      "975           0       0          0            0     0     0      0     0    0   \n",
      "976           0       0          0            0     0     0      0     0    0   \n",
      "977           0       0          0            0     0     0      0     0    0   \n",
      "978           0       0          0            0     0     0      0     0    0   \n",
      "979           0       0          0            0     0     0      0     0    0   \n",
      "980           0       0          0            0     0     0      0     0    0   \n",
      "981           0       0          0            0     0     0      0     0    0   \n",
      "982           0       0          0            0     0     0      0     0    0   \n",
      "983           0       0          0            0     0     0      0     0    0   \n",
      "984           0       0          0            0     0     0      0     0    0   \n",
      "985           0       0          0            0     0     0      0     0    0   \n",
      "986           0       0          0            0     0     0      0     0    0   \n",
      "987           0       0          0            0     0     0      0     0    0   \n",
      "988           0       0          0            0     0     0      0     0    0   \n",
      "989           0       0          0            0     0     0      0     0    0   \n",
      "990           0       0          0            0     0     0      0     0    0   \n",
      "991           0       0          0            0     0     0      0     0    0   \n",
      "992           0       0          0            0     0     0      0     0    0   \n",
      "993           0       0          0            0     0     0      0     0    0   \n",
      "994           0       0          0            0     0     0      0     0    0   \n",
      "995           0       0          0            0     0     0      0     0    0   \n",
      "996           0       0          0            0     0     0      0     0    0   \n",
      "997           0       0          0            0     0     0      0     0    0   \n",
      "998           0       0          0            0     0     0      0     0    0   \n",
      "999           0       0          0            0     0     0      0     0    0   \n",
      "\n",
      "     worst  allcaps  \n",
      "0        0        0  \n",
      "1        0        0  \n",
      "2        0        0  \n",
      "3        0        0  \n",
      "4        0        0  \n",
      "5        0        0  \n",
      "6        0        0  \n",
      "7        0        0  \n",
      "8        0        0  \n",
      "9        0        0  \n",
      "10       0        0  \n",
      "11       0        0  \n",
      "12       0        0  \n",
      "13       0        0  \n",
      "14       0        0  \n",
      "15       0        0  \n",
      "16       0        0  \n",
      "17       0        0  \n",
      "18       0        0  \n",
      "19       0        0  \n",
      "20       0        0  \n",
      "21       0        0  \n",
      "22       0        0  \n",
      "23       0        0  \n",
      "24       0        0  \n",
      "25       0        0  \n",
      "26       0        0  \n",
      "27       0        0  \n",
      "28       0        0  \n",
      "29       0        0  \n",
      "..     ...      ...  \n",
      "970      0        0  \n",
      "971      0        0  \n",
      "972      0        0  \n",
      "973      0        0  \n",
      "974      0        0  \n",
      "975      0        0  \n",
      "976      0        1  \n",
      "977      0        0  \n",
      "978      0        0  \n",
      "979      0        0  \n",
      "980      0        0  \n",
      "981      0        0  \n",
      "982      0        0  \n",
      "983      0        0  \n",
      "984      0        0  \n",
      "985      0        0  \n",
      "986      0        0  \n",
      "987      0        0  \n",
      "988      0        0  \n",
      "989      0        0  \n",
      "990      0        0  \n",
      "991      0        0  \n",
      "992      0        0  \n",
      "993      0        0  \n",
      "994      0        0  \n",
      "995      0        0  \n",
      "996      0        0  \n",
      "997      0        0  \n",
      "998      0        0  \n",
      "999      0        0  \n",
      "\n",
      "[1000 rows x 20 columns]\n"
     ]
    }
   ],
   "source": [
    "print(data)"
   ]
  },
  {
   "cell_type": "code",
   "execution_count": 12,
   "metadata": {},
   "outputs": [
    {
     "name": "stdout",
     "output_type": "stream",
     "text": [
      "With 20% Holdout: 0.625\n"
     ]
    }
   ],
   "source": [
    "from sklearn.model_selection import train_test_split\n",
    "# Use train_test_split to create the necessary training and test groups\n",
    "X_train, X_test, y_train, y_test = train_test_split(data, target, test_size=0.2, random_state=20)\n",
    "print('With 20% Holdout: ' + str(bnb.fit(X_train, y_train).score(X_test, y_test)))"
   ]
  },
  {
   "cell_type": "code",
   "execution_count": 13,
   "metadata": {},
   "outputs": [],
   "source": [
    "df=sms_raw"
   ]
  },
  {
   "cell_type": "code",
   "execution_count": 14,
   "metadata": {},
   "outputs": [],
   "source": [
    "list1=[msg.split() for msg in df.message.str.lower()]"
   ]
  },
  {
   "cell_type": "code",
   "execution_count": 15,
   "metadata": {},
   "outputs": [],
   "source": [
    "list2 = [word for lst_msg in list1 for word in lst_msg ]"
   ]
  },
  {
   "cell_type": "code",
   "execution_count": 16,
   "metadata": {},
   "outputs": [
    {
     "data": {
      "text/plain": [
       "['so',\n",
       " 'there',\n",
       " 'is',\n",
       " 'no',\n",
       " 'way',\n",
       " 'for',\n",
       " 'me',\n",
       " 'to',\n",
       " 'plug',\n",
       " 'it',\n",
       " 'in',\n",
       " 'here',\n",
       " 'in',\n",
       " 'the',\n",
       " 'us',\n",
       " 'unless',\n",
       " 'i',\n",
       " 'go',\n",
       " 'by',\n",
       " 'a']"
      ]
     },
     "execution_count": 16,
     "metadata": {},
     "output_type": "execute_result"
    }
   ],
   "source": [
    "list2[:20]"
   ]
  },
  {
   "cell_type": "code",
   "execution_count": 17,
   "metadata": {},
   "outputs": [
    {
     "name": "stdout",
     "output_type": "stream",
     "text": [
      "Counter({'the': 513, 'i': 313, 'and': 310, 'is': 238, 'it': 237, 'a': 217, 'this': 197, 'to': 195, 'my': 143, 'for': 119, 'of': 119, 'phone': 118, 'not': 115, 'with': 107, 'very': 102, 'was': 90, 'in': 87, 'on': 87, 'that': 75, 'have': 72, 'good': 66, 'great': 63, 'you': 62, 'as': 45, 'but': 45, 'works': 43, 'had': 43, 'so': 42, 'are': 41, 'battery': 39, 'sound': 35, 'one': 34, 'has': 34, 'all': 34, 'quality': 33, 'from': 33, 'phone.': 33, 'would': 32, 'your': 32, 'headset': 32, 'it.': 31, 'like': 30, 'if': 29, 'than': 28, \"i've\": 28, \"don't\": 28, 'use': 27, \"it's\": 27, 'product': 27, 'after': 27, 'no': 26, 'be': 26, 'really': 26, 'at': 24, 'recommend': 24, '-': 24, 'or': 23, 'does': 23, 'work': 23, 'get': 22, 'when': 22, 'only': 22, \"i'm\": 22, 'excellent': 21, 'up': 21, 'product.': 21, 'just': 21, 'any': 20, 'out': 20, 'well': 20, 'love': 20, 'am': 20, 'me': 19, 'ear': 19, 'do': 19, 'best': 19, 'nice': 19, '2': 19, 'also': 19, 'an': 19, 'can': 18, 'about': 18, 'even': 18, 'these': 18, 'because': 18, 'worked': 18, 'better': 18, 'great.': 17, 'then': 17, 'bought': 17, 'new': 17, 'they': 17, 'what': 16, 'could': 16, \"doesn't\": 16, 'its': 16, 'car': 15, 'time': 15, 'first': 15, 'well.': 15, 'case': 15, 'bluetooth': 15, 'buy': 15, 'been': 15, 'easy': 15, 'charger': 14, 'comfortable': 14, 'too': 14, 'still': 14, 'happy': 14, 'few': 14, 'which': 14, 'will': 14, 'more': 13, 'waste': 13, 'two': 13, 'now': 13, 'quality.': 13, 'reception': 13, 'got': 13, 'did': 13, 'while': 13, 'same': 13, 'worst': 13, 'ever': 13, 'there': 12, 'hear': 12, 'make': 12, 'enough': 12, 'price': 12, 'item': 12, 'much': 12, 'thing': 12, 'ear.': 12, 'piece': 12, 'cell': 12, 'used': 12, 'service.': 12, 'plug': 11, 'headset.': 11, 'makes': 11, 'other': 11, 'use.': 11, 'fits': 11, 'bad': 11, 'charge': 11, 'into': 10, 'long': 10, 'think': 10, 'people': 10, 'made': 10, 'motorola': 10, 'using': 10, \"couldn't\": 10, 'price.': 10, 'over': 10, 'them': 9, 'highly': 9, 'how': 9, 'poor': 9, 'camera': 9, 'calls': 9, 'pretty': 9, 'problems': 9, 'looks': 9, 'device': 9, 'work.': 9, 'lot': 9, 'customer': 9, 'working': 9, 'by': 8, 'right': 8, 'money.': 8, 'impressed': 8, 'design': 8, 'without': 8, 'me.': 8, 'little': 8, 'never': 8, 'life': 8, 'clear': 8, 'their': 8, 'verizon': 8, 'everything': 8, 'off': 8, 'found': 8, 'purchase.': 8, 'jabra': 8, 'service': 8, 'voice': 8, 'screen': 8, 'being': 8, 'low': 8, 'way': 7, 'several': 7, 'money': 7, 'went': 7, 'most': 7, 'problem': 7, \"didn't\": 7, 'years': 7, 'we': 7, 'phones': 7, 'buttons': 7, 'last': 7, 'headsets': 7, 'wear': 7, 'gets': 7, 'tried': 7, 'both': 7, 'call': 7, 'case.': 7, 'completely': 7, 'software': 7, 'some': 7, 'look': 7, 'nokia': 7, 'quite': 7, 'take': 7, 'unit': 7, 'again': 7, 'volume': 7, 'however,': 7, 'go': 6, 'going': 6, 'far': 6, 'talk': 6, 'need': 6, 'fine': 6, 'want': 6, 'dropped': 6, 'since': 6, 'this.': 6, 'within': 6, 'down': 6, 'great,': 6, 'broke': 6, 'received': 6, 'black': 6, 'more.': 6, 'light': 6, 'product,': 6, 'small': 6, 'cheap': 6, 'less': 6, 'put': 6, 'every': 6, 'stay': 6, 'company': 6, 'time.': 6, 'real': 6, 'good.': 6, 'fit': 6, 'came': 6, 'difficult': 6, 'original': 5, 'started': 5, 'three': 5, 'days': 5, 'months': 5, 'say': 5, 'hold': 5, 'sure': 5, '3': 5, 'turn': 5, 'disappointed': 5, 'great!': 5, 'headphones': 5, 'find': 5, 'purchase': 5, 'different': 5, 'week': 5, 'it,': 5, 'feels': 5, 'item.': 5, 'arrived': 5, 'poor.': 5, 'definitely': 5, 'pictures': 5, 'cool': 5, 'fit.': 5, 'end': 5, 'around': 5, '&': 5, 'know': 5, 'kind': 5, 'where': 5, 'phone,': 5, 'ever.': 5, 'year': 5, 'important': 5, 'return': 5, 'cable': 5, 'many': 5, 'problem.': 5, 'amazon': 5, 'couple': 5, 'terrible': 5, 'looking': 5, 'having': 5, 'especially': 5, 'keep': 5, 'fine.': 5, 'hard': 5, 'always': 5, 'none': 5, 'cannot': 5, \"can't\": 5, 'here': 4, 'case,': 4, 'value.': 4, 'sending': 4, 'one.': 4, 'must': 4, 'were': 4, 'blue': 4, 'again.': 4, 'absolutely': 4, 'it!': 4, 'she': 4, 'had.': 4, 'simple': 4, 'ears': 4, 'left': 4, 'hate': 4, 'kept': 4, 'priced': 4, 'seems': 4, 'loud': 4, 'actually': 4, 'sturdy': 4, 'disappointed.': 4, 'big': 4, 'too.': 4, 'purchased': 4, 'holds': 4, 'time,': 4, 'them.': 4, 'expect': 4, 'order': 4, 'free': 4, 'high': 4, 'pleased': 4, 'job': 4, '5': 4, 'hours': 4, 'audio': 4, 'obviously': 4, 'device.': 4, 'before': 4, 'phone!.': 4, 'signal': 4, 'useless': 4, 'lasts': 4, 'part': 4, 'back.': 4, 'lightweight': 4, \"i'd\": 4, 'horrible': 4, 'far.': 4, 'worth': 4, 'hands': 4, 'junk.': 4, 'up.': 4, 'buying': 4, 'quickly': 4, 'old': 4, 'ear,': 4, 'data': 4, 'comes': 4, 'rather': 4, 'back': 4, 'anything': 4, 'charging': 4, 'unfortunately': 4, 'those': 4, 'own': 4, 'off.': 4, 'ringtones': 4, 'samsung': 4, 'treo': 4, 'extra': 4, 'connection': 4, 'mic': 3, 'volume.': 3, 'razr': 3, 'battery.': 3, 'who': 3, 'great!.': 3, 'pair': 3, 'below': 3, 'pocket': 3, 'instructions': 3, 'helpful': 3, 'use,': 3, 'performance.': 3, 'picture': 3, 'right.': 3, 'features': 3, 'made.': 3, 'protection': 3, 'keyboard': 3, '510': 3, 'cool.': 3, 'perhaps': 3, \"phone's\": 3, 'front': 3, 'later': 3, 'trouble': 3, ',': 3, 'longer': 3, 'ease': 3, 'dont': 3, 'plan': 3, 'decision.': 3, 'shipping': 3, 'match': 3, 'between': 3, 'camera,': 3, 'fall': 3, 'such': 3, 'wife': 3, 'leather': 3, 'fast': 3, 'may': 3, 'strong': 3, 'set': 3, 'bt': 3, 'getting': 3, 'almost': 3, 'avoid': 3, 'earbud': 3, 'coverage': 3, 'drops': 3, 'glad': 3, 'did.': 3, 'used.': 3, 'fantastic': 3, 'internet,': 3, 'clear,': 3, 'minutes': 3, 'replacement': 3, 'extremely': 3, 'is.': 3, 'simply': 3, 'color': 3, 'thought': 3, 'reasonably': 3, 'should': 3, 'form': 3, 'range': 3, 'able': 3, 'all,': 3, 'experience': 3, \"there's\": 3, 'ordered': 3, 'sony': 3, 'mistake': 3, 'new.': 3, 'internet': 3, 'probably': 3, 'earpiece.': 3, 'unreliable': 3, 'family.': 3, 'poorly': 3, 'charged': 3, 'excellent.': 3, 'scratched': 3, 'terrible.': 3, 'microphone': 3, 'care': 3, 'plugged': 3, 'disappointing.': 3, 'times': 3, 'life.': 3, 'wireless': 3, 'face': 3, 'awesome': 3, 'weak': 3, 'others': 3, 'trying': 3, 'wanted.': 3, 'deal.': 3, 'satisfied': 3, 'give': 3, 'plantronics': 3, 'goes': 3, 'dead': 3, 'plastic': 3, 'overall,': 3, 'another': 3, 'away': 3, 'clarity': 3, '1': 3, 'anyone.': 3, 'might': 3, \"wasn't\": 3, 'turned': 3, 'lg': 3, 'under': 3, 'feature': 3, 'price!': 3, 'ago': 3, 'noise': 3, 'given': 3, 'palm': 3, 'seller': 3, 'design.': 3, 'said': 3, 'through': 3, 'speaker': 3, 'with.': 3, 'feel': 3, 'day': 3, 'cases': 3, 'anyone': 3, 'pay': 3, '--': 3, 'sound.': 3, 'replace': 3, 'pairing': 3, 'despite': 3, 'easier': 3, 't-mobile': 3, 'cingular': 3, 'easily.': 3, 'beep': 3, 'lasting': 2, 'line': 2, 'decent': 2, 'say,': 2, 'wasted': 2, 'he': 2, 'extended': 2, 'notice': 2, 'static': 2, 'though': 2, 'all.': 2, 'tooth': 2, 'advise': 2, 'everyone': 2, 'place': 2, 'website': 2, 'fire': 2, 'yet': 2, 'run': 2, 'bars': 2, \"that's\": 2, 'pc': 2, 'mobile': 2, 'pull': 2, 'charge.': 2, 'unusable': 2, 'included': 2, 'least': 2, 'thats': 2, 'audio.': 2, 'regarding': 2, 'returned': 2, 'days.': 2, 'turns': 2, 'pda': 2, 'instead': 2, 'large': 2, 'seconds': 2, 'bad.': 2, 'essentially': 2, 'forget': 2, 'tech': 2, 'support.': 2, 'particular': 2, 'cover': 2, 'let': 2, 'lock': 2, 'glasses': 2, 'series': 2, 'docking': 2, 'station': 2, 'home': 2, 'beautiful': 2, 'bargain.': 2, '6': 2, 'loves': 2, 'construction': 2, 'costs': 2, 'does.': 2, 'play': 2, 'music': 2, 'big.': 2, '....': 2, 'charger.': 2, 'huge': 2, 'although': 2, 'impressive': 2, 'ask': 2, 'slim': 2, 'display': 2, 'sex': 2, 'rocks': 2, 'full': 2, 'number': 2, 'unhappy': 2, 'earpieces': 2, 'signal.': 2, 'basically': 2, 'weeks,': 2, 'packaged': 2, 'logitech': 2, 'failed.': 2, 'stuff': 2, 'house': 2, 'recognition': 2, 'during': 2, 'calls,': 2, 'experienced': 2, 'area': 2, 'takes': 2, 'forever': 2, 'stated': 2, 'description': 2, 'months,': 2, 'hoping': 2, 'blackberry': 2, 'sounds': 2, 'technology': 2, \"wouldn't\": 2, 'wired': 2, 'these.': 2, 'previous': 2, 'there.': 2, 'perfectly!': 2, 'w810i': 2, 'tool': 2, 'maintain': 2, 'sharp': 2, 'long.': 2, 'thank': 2, 'igo': 2, 'network.': 2, 'connected': 2, \"wife's\": 2, 'charm': 2, 'slow': 2, 'once': 2, 'storage': 2, 'buzzing': 2, 'override': 2, 'conversations,': 2, 'you!': 2, 'functionality': 2, 'awesome.': 2, '10': 2, 'ring': 2, 'thin': 2, 'call.': 2, 'headset,': 2, 'nearly': 2, 'bother': 2, 'room': 2, 'felt': 2, 'embarrassing': 2, 'expected': 2, 'consumer': 2, 'background': 2, 'before.': 2, 'certainly': 2, 'usually': 2, 'mess': 2, 'now,': 2, 'tell': 2, '$$$': 2, 'comfort': 2, 'excited': 2, 'disappointment': 2, 'additional': 2, 'gels': 2, 'provided,': 2, 'whatsoever.': 2, 'well,': 2, 'secure,': 2, 'appears': 2, 'smell': 2, 'caused': 2, 'month': 2, 'flawlessly': 2, 'either.': 2, 'drain': 2, 'stars': 2, 'helpful.': 2, 'whole': 2, 'battery,': 2, 'uncomfortable': 2, 'gotten': 2, 'dialing': 2, 'cant': 2, 'best,': 2, 'neither': 2, 'sucks.': 2, 'comfortable.': 2, 'comfortably': 2, 'either': 2, 'ipod': 2, '(you': 2, 'recharge': 2, 'flip': 2, 'belt,': 2, 'lost': 2, 'also,': 2, 'save': 2, 'light,': 2, \"i'll\": 2, 'starts': 2, 'ringing': 2, 'reason.': 2, 'player.': 2, 'try': 2, 'push': 2, 'sides.': 2, 'skype': 2, 'handsfree': 2, 'finally': 2, 'market': 2, 'shipped': 2, 'exactly': 2, '!': 2, 'stupid': 2, 'chargers,': 2, 'buy.': 2, 'noticed': 2, 'jawbone': 2, 'too!': 2, 'talk.': 2, 'breaks': 2, 'clip.': 2, 'reception.': 2, 'easy.': 2, 'warning': 2, 'dying.': 2, 'moto': 2, 'nothing': 2, '20': 2, 'reading': 2, 'wearing': 2, 'perfectly.': 2, 'clarity.': 2, 'returning': 2, 'switch': 2, 'problems.': 2, 'understand': 2, 'batteries': 2, 'user': 2, 'ability': 2, 'receiving': 2, 'exchanged': 2, 'super': 2, 'wrong': 2, 'described.': 2, 'now.': 2, 'im': 2, 'star': 2, 'nothing.': 2, 'holster': 2, 'review': 2, 'not.': 2, 'amazed': 2, 'timeframe,': 2, 'complaint': 2, 'things': 2, 'ended': 2, 'store': 2, 'horrible,': 2, 'refund': 2, 'accidentally': 2, 'took': 2, 'above': 2, 'looking,': 2, 'setup': 2, 'eargels': 2, 'seem': 2, 'numerous': 2, 'happier': 2, 'would.': 2, 'side': 2, 'quality,': 2, 'sound,': 2, 'please': 2, 'barely': 2, 'forced': 2, 'charger,': 2, 'support': 2, 'calls.': 2, 'holding': 2, 'sprint': 2, 'cheap.': 2, 'belt': 2, 'operate': 2, 'paired': 2, 'usb': 2, 'come': 2, 'plus,': 2, 'red': 2, 'reviews': 2, 'disappointing': 2, 'awful': 2, 'tinny': 2, 'echo': 2, 'expensive': 2, 'told': 2, 'that,': 2, 'placed': 2, 'spring': 2, 'fine,': 2, 'tries': 2, 'download': 2, 'picture,': 2, 'access': 2, 'third': 2, 'work,': 2, 'flash': 2, 'awful.': 2, 'tones': 2, 'chinese': 2, 'cell.': 2, 'crisp': 2, 'is,': 2, 'video': 2, 'accept': 2, 'allows': 2, 'iphone': 2, 'power': 2, 'wall': 2, 'car,': 2, 'outlet.': 2, 'hand.': 2, 'cut': 2, 'sizes': 2, 'ears.': 2, 'next': 2, 'weeks': 2, 'worked.': 2, 'sounded': 2, 'feet': 2, 'easily': 2, 'send': 2, 'amazon.': 2, 'says': 2, 'far,': 2, 'laptop': 2, 'inside.': 2, 'normal': 2, 'making': 2, 'lose': 2, 'break': 2, 'cases.': 2, 'computer': 2, 'us': 1, 'unless': 1, 'converter.': 1, 'jawbone.': 1, 'tied': 1, 'conversations': 1, '45': 1, 'minutes.major': 1, 'problems!!': 1, 'jiggle': 1, 'dozen': 1, 'hundred': 1, 'contacts,': 1, 'imagine': 1, 'fun': 1, 'each': 1, 'owner...you': 1, 'this!': 1, 'needless': 1, 'time!.': 1, 'seperated': 1, 'mere': 1, '5+': 1, 'ft': 1, 'excessive': 1, 'garbled': 1, 'odd,': 1, '\"clip\"': 1, 'fooled!': 1, 'good!.': 1, 'clicks': 1, 'wonder': 1, 'mechanism': 1, 'last.': 1, \"motorola's\": 1, 'followed': 1, 'directions,': 1, 'kindle': 1, 'loved': 1, 'commercials': 1, 'misleading.': 1, 'charging.': 1, 'mother': 1, '/': 1, 'combination.': 1, 'owned': 1, '7': 1, 'provided': 1, 'couldnt': 1, 'earphone': 1, 'breakage': 1, 'unacceptible.': 1, 'ideal': 1, 'whose': 1, 'sensitive.': 1, 'moving': 1, 'freeway': 1, 'speed.': 1, 'contract': 1, 'ac': 1, 'juice.highy': 1, 'recommended': 1, 'mins': 1, 'book': 1, 'phone.battery': 1, 'short.': 1, '680.': 1, 'worthless': 1, '2mp,': 1, 'pics': 1, 'garbage': 1, 'mind': 1, 'gonna': 1, 'battery?.': 1, 'arguing': 1, 'should.': 1, 'bulky.': 1, 'usable': 1, 'real-world': 1, 'useful': 1, 'machine': 1, 'neat': 1, 'gadget.': 1, 'thing!': 1, 'reasonable': 1, 'i.e.': 1, 'stream': 1, 'submerged': 1, '15': 1, 'complaints': 1, 'end.': 1, \"microsoft's\": 1, 'faceplates': 1, 'nice,': 1, 'elegant': 1, 'seriously.': 1, 'angle': 1, 'party': 1, 'clearly.': 1, 'drawback': 1, 'mp3': 1, 'player': 1, 'pause': 1, 'skip': 1, 'songs': 1, 'seconds.': 1, 'activated': 1, 'suddenly': 1, 'died.': 1, 'sometimes.': 1, 'ipods': 1, 'situations:1.)': 1, 'bmw': 1, 'fairly': 1, 'quiet,': 1, 'hearing': 1, 'person': 1, 'saying.': 1, 'choice!': 1, 'd807...wrongly': 1, 'advertised': 1, 'd807.': 1, 'handy': 1, '.': 1, 'working!!!!!!!!!': 1, 'everyday': 1, 'packaged,': 1, 'intended.': 1, 'runs': 1, 'quickly.': 1, 'boy': 1, 'cheaper!': 1, 'loads': 1, 'super!': 1, 'does,': 1, 'greater': 1, 'sturdy.': 1, 'buds': 1, 'money...': 1, 'again!': 1, 'waaay': 1, 'bluetooths': 1, '(for': 1, 'listener)': 1, 'using.': 1, 'integrated': 1, 'seamlessly': 1, 'buyer': 1, 'beware,': 1, 'flush': 1, 'toilet.': 1, 'supposedly': 1, '375': 1, 'apparently': 1, 'pros:-good': 1, 'styles': 1, 'white,': 1, 'flaw': 1, '(unless': 1, 'correctly,': 1, 'case).': 1, '350': 1, 'headset..': 1, 'jabra350': 1, 'rated': 1, '1.3': 1, 'megapixels,': 1, 'renders': 1, 'images': 1, 'expectations': 1, 'relatively': 1, 'resolution.': 1, 'purcashed': 1, 'excellent,': 1, '!2.': 1, 'beautiful.': 1, 'geeky': 1, 'toast': 1, 'oozes': 1, 'embedded': 1, 'sleek': 1, 'stylish': 1, 'shipping!.': 1, 'compromise': 1, 'qwerty': 1, 'basic': 1, 'keypad.': 1, 'winner': 1, 'us.': 1, ')setup': 1, 'simpler.': 1, 'comfortably.': 1, 'iam': 1, 'done.': 1, 'audio!.': 1, 'charger!.': 1, 'disapoinment.': 1, 'realize': 1, 'accompanied': 1, 'brilliant.': 1, 'nicely': 1, 'damage.': 1, '!i': 1, 'definitly': 1, 'recommend!!': 1, 'buyer--be': 1, 'careful!!!!!.': 1, 'majority': 1, 'peachy-keen.': 1, 'upstairs': 1, 'basement.': 1, 'tremendous!': 1, 'waste.': 1, 'minute': 1, 'bars.': 1, 'literally.': 1, 'reccomendation': 1, 'relative': 1, 'time!': 1, 'items': 1, 'included.': 1, 'sudden.': 1, 'poor,': 1, 'linking': 1, '8530': 1, 'curve!': 1, 'funny,': 1, 'seemed': 1, 'sketchy': 1, 'well.well,': 1, '$5': 1, 'messages': 1, 'web': 1, 'browsing': 1, 'significantly': 1, 'faster': 1, 'build,': 1, 'unlike': 1, 's***': 1, 'colors!': 1, 'superb.': 1, 'whine': 1, 'goes.the': 1, 'communications': 1, 'communicate.': 1, 'charm;': 1, 'monkeys': 1, \"shouldn't\": 1, 'headphones,': 1, 'share': 1, 'dna': 1, 'copy': 1, 'humans.': 1, 'all..': 1, 'bougth': 1, 'l7c': 1, 'working.': 1, 'graphics.': 1, 'mode': 1, 'button': 1, 'side.': 1, 'service!!!!!!!!.': 1, 'wasting': 1, 'be?the': 1, 'chargers': 1, 'tips': 1, 'file': 1, 'browser': 1, 'offers': 1, 'options': 1, 'needs.handsfree': 1, 'superb': 1, 'bluetooth,(motorola': 1, 'hs850)': 1, 'whether': 1, 'latest': 1, 'os': 1, '(v1.15g),': 1, 'likes': 1, 'crawl': 1, 'while.': 1, 'recognizes': 1, 'bluetoooth': 1, 'thorn': 1, 'side,': 1, 'abhor': 1, 'recently': 1, 'disconnected.': 1, 'incredible!.': 1, 'flaw?.': 1, '13': 1, 'bucks.': 1, 'check': 1, 'mail': 1, 'night,': 1, 'keypad': 1, 'backlight': 1, 'message,': 1, 'lost.': 1, 'died': 1, 'weeks.': 1, 'tone..overall': 1, 'buy..': 1, 'lately': 1, 'wit': 1, 'hit': 1, 'dropping': 1, 'impressed.': 1, 'weight,': 1, 'hardly': 1, \"you'll\": 1, 'choice.': 1, 'pleather': 1, 'deaf.': 1, 'prettier': 1, 'be,': 1, 'graphics': 1, 'incredibly': 1, 'sharp.': 1, 'investment.': 1, 'strange': 1, 'ticking': 1, 'noises': 1, 'ends': 1, 'electronics': 1, 'available': 1, 'fm': 1, 'transmitters.': 1, 'hours.': 1, 'h500.': 1, '\"1.2\"': 1, 'mega': 1, 'pixel': 1, 'good7.': 1, 'transmit': 1, 'contacting': 1, 'dollar': 1, 'learned': 1, 'lesson': 1, 'online': 1, 'anyway.': 1, 'earbugs,': 1, 'means.': 1, 'also!': 1, 'decent,': 1, 'roam': 1, 'living': 1, 'reception/sound': 1, 'issues.': 1, '\"on\"': 1, 'button,': 1, 'crack': 1, 'infatuated': 1, 'freezes': 1, 'frequently4.': 1, 'mostly': 1, 'child-like': 1, 'simple,': 1, 'motorola.': 1, 'tick': 1, 'decent.': 1, 'headbands': 1, 'hair.': 1, 'bit': 1, 'you,': 1, 'ericsson': 1, '(thats': 1, 'it).': 1, 'favorite': 1, 'purchases': 1, 'market.': 1, 'authentic': 1, 'shine': 1, '.i': 1, '!!': 1, 'cute.': 1, 'calendar': 1, 'sync.': 1, 'defeats': 1, 'purpose': 1, 'penny.': 1, 'wallet': 1, 'type': 1, 'excrutiatingly': 1, 'slow.': 1, 'aspect': 1, 'glove': 1, 'strong,': 1, 'durable.': 1, 'o': 1, 'gosh': 1, 'attractive': 1, 'factor.': 1, 'rubber/petroleum': 1, 'unbearable': 1, 'flimsy,': 1, 'scary.': 1, 'tool.': 1, 'stereo.': 1, 'incredible': 1, 'absolutel': 1, '8': 1, 'later.': 1, 'money!.': 1, 'headset!': 1, 'player,': 1, 'potentially': 1, 'fry': 1, 'giving': 1, 'gave': 1, 'can.': 1, 'reversible': 1, 'rotating': 1, 'feature,': 1, 'our': 1, 'seller.': 1, 'bluetooth!': 1, 'plantronics.': 1, 'adorable.': 1, 'contstruct': 1, 'hinge.': 1, 'installed': 1, 'overnite': 1, 'thru': 1, 'handset': 1, 'cat': 1, 'attacked': 1, 'protective': 1, 'strip': 1, 'destroying': 1, 'screen.': 1, 'razor': 1, 'v3i.': 1, 'wise': 1, 'someone': 1, 'shouldve': 1, 'invented': 1, 'sooner.': 1, 'try.the': 1, 'engineered': 1, 'clever': 1, 'great!!': 1, 'complained,': 1, \"headset's\": 1, 'weak.': 1, '5-year': 1, '2160': 1, 'tracfone': 1, 'bit.': 1, 'fast.': 1, 'instruction': 1, 'manual': 1, 'lacking.': 1, 'alarm': 1, 'clock': 1, 'removing': 1, 'antena.': 1, 'compared': 1, '(razr)': 1, '(that': 1, 'lg).': 1, 'compliments': 1, 'state': 1, 'allow': 1, 'usage': 1, 'driving.': 1, 'immediately.': 1, 'ngage': 1, 'lacking': 1, 'earbuds.': 1, '2-3': 1, 'home,': 1, 'anything.': 1, 'item,': 1, 'however-the': 1, 'riingtones': 1, 'games.': 1, 'rip': 1, 'off----': 1, 'shipping.': 1, 'ago.': 1, 'excellent!': 1, 'loud,': 1, '1.': 1, 'frequentyly': 1, 'phones)2.': 1, 'adhesive.': 1, 'inexpensive': 1, 'piece,': 1, 'practically': 1, 'add': 1, 'boost': 1, 'happy.': 1, 'junk': 1, 'days!!!': 1, 'concrete': 1, '(knock': 1, 'wood!).': 1, 'static.': 1, 'transformed': 1, 'organizational': 1, 'capability': 1, 'easier.': 1, 'sitting': 1, 'vehicle,': 1, 'cradle': 1, 'jerks': 1, 'charm..': 1, 'advertised.': 1, 'comfortable,': 1, 'range,': 1, 'network': 1, 'los': 1, 'angeles': 1, 'horrible.': 1, 'starter': 1, 'loudspeaker': 1, 'option': 1, 'bumpers': 1, 'lights': 1, '...': 1, 'appealing.': 1, 'improve': 1, 'leaks': 1, 'sucks,': 1, 'bars,': 1, 'hot!': 1, '(according': 1, 'called)': 1, 'applifies': 1, 'everything.': 1, 'dropped,': 1, 'specially': 1, 'down.': 1, 'transmission.': 1, 'fit,': 1, 's11.': 1, 'cable,': 1, 'finished': 1, 'happier.': 1, 'drivng': 1, 'along,': 1, 'year.': 1, 'had....': 1, 'months.': 1, 'item..': 1, 'auto': 1, 'reverse': 1, 'tape': 1, 'embarassing': 1, 'hurt': 1, 'protects': 1, 'average': 1, 'operates': 1, 'life,': 1, 'range.': 1, 'soyo': 1, 'self': 1, 'portraits': 1, 'outside': 1, '(exterior)': 1, 'display,': 1, 'mentioned.': 1, 'gadgets': 1, 'magical': 1, 'help.': 1, 'crap': 1, 'along': 1, ':).': 1, 'promptly': 1, 'resolution': 1, 'comparably-priced': 1, 'offering': 1, 'today.': 1, 'encourage': 1, 'try.': 1, \"you'd\": 1, 'expect.': 1, 'earpieces,': 1, 'right,': 1, 'effective,': 1, 'waiting......': 1, 'well..': 1, 'recieve': 1, 'prompt': 1, 'cradles,': 1, 'kits': 1, 'out.': 1, 'excelent': 1, 'cingulair': 1, 'nicer': 1, 'phones....': 1, 'everyone!': 1, 'era': 1, 'white': 1, 'colored': 1, 'hoursthe': 1, 'thereplacement': 1, 'years,': 1, 'best.': 1, '2000!.': 1, 'cheaply': 1, 'att': 1, 'distorted': 1, 'yell': 1, 'oh': 1, 'forgot': 1, 'mention': 1, 'weird': 1, 'effect': 1, 'iriver': 1, 'spinn': 1, '(with': 1, 'case)': 1, 'broke).-': 1, 'fond': 1, 'magnetic': 1, 'strap.': 1, 'psyched': 1, 'appointments': 1, 'contacts': 1, 'perfectly,': 1, 'note': 1, 'appearance': 1, 'bland,': 1, 'model.': 1, 'sanyo': 1, 'survived': 1, 'dozens': 1, 'blacktop': 1, 'ill': 1, 'effect.': 1, 'earphones.': 1, 'finds': 1, 'enter': 1, 'car.': 1, 'modest': 1, 'cellular': 1, 'away.': 1, 'wish': 1, 'awsome': 1, 'great!!.': 1, '1/2': 1, 'literally': 1, 'drained': 1, 'bad,': 1, 'earpad': 1, 'only.i': 1, 'displeased.': 1, 'defect,': 1, 'risk': 1, 'built': 1, 'alone.': 1, 'install.': 1, 'restored': 1, 'purchasing': 1, 'jx-10': 1, 'q,': 1, 'figure.': 1, 'searched': 1, 'size': 1, 'big,': 1, 'key': 1, 'pad': 1, 'lit': 1, 'enough,': 1, 'find,': 1, 'priced.': 1, 'portable': 1, 'works.': 1, 'colleague': 1, 'reception.a': 1, 'expensive,': 1, 'performance': 1, 'fully': 1, 'bed': 1, 'wi-fi': 1, '%': 1, 'morning.': 1, 'memory': 1, 'card': 1, 'hat': 1, 'sunglasses.': 1, 'timely': 1, 'shipment': 1, 'solid': 1, 'keyboard.': 1, 'surefire': 1, 'gx2': 1, 'bt50': 1, 'junk!.': 1, 'others.': 1, 'computer.': 1, 'disappointed!.': 1, 'buyers': 1, 'remorse': 1, 'one!.': 1, 'accessoryone.': 1, 'inexcusable': 1, 'changing': 1, 'carriers.': 1, 'strong.\"': 1, 'tmobile': 1, 'update': 1, 'procedure': 1, 'cumbersome.': 1, 'disappointment..': 1, 'motorolas.': 1, 'delivery': 1, 'vx9900': 1, '(env).': 1, 'rocketed': 1, 'destination': 1, 'unknown.': 1, 'long-wearing': 1, 'conditions': 1, 'tremendous.': 1, 'worthwhile': 1, 'usefulness': 1, \"verizon's\": 1, 'bills,': 1, 'pricing': 1, 'plans': 1, 'simple.': 1, 'overnight,': 1, \"won't\": 1, 'regret': 1, 'disappointment.': 1, 'friendly.': 1, 'pitiful': 1, 'respect.': 1, 'results': 1, 'stuck': 1, 'max': 1, 'mute.': 1, 'rocks.': 1, 'hybrid': 1, 'palmtop/camera/cellphone,': 1, 'excels': 1, 'roles.': 1, 'bt250v': 1, 'comfort,': 1, 'liked': 1, 'size.': 1, 'money....': 1, '11': 1, 'satisfied.': 1, 'bose': 1, 'cancelling': 1, 'amazing,': 1, 'nyc': 1, 'commuter.': 1, 'bargain!': 1, 'defective': 1, 'crap.': 1, 'able.': 1, 'unacceptable.unless': 1, 'quiet': 1, 'area,': 1, 'photo': 1, 'ad.': 1, 'great...no': 1, 'all!.': 1, 'earlier': 1, 'noted,': 1, 'happens.': 1, 'frog': 1, 'adorable': 1, 'eye': 1, 'catching.': 1, 'pushed': 1, 'function': 1, 'aluminum': 1, 'vx': 1, 'well--it': 1, 'protected': 1, 'handheld': 1, 'perfectly': 1, 'tools': 1, 'have.': 1, 'sturdiness': 1, 'orders': 1, 'source.': 1, 'waterproof.': 1, 'standard': 1, '5(of': 1, '5)': 1, 'thanks': 1, 'sliding': 1, 'edge': 1, 'pants': 1, 'pockets': 1, 'instead.': 1, 'ugly.': 1, 'times.': 1, 'shield': 1, 'incrediable.': 1, 'improvement.': 1, 'amazon!!': 1, 'refuse': 1, 'replace.': 1, 'activate': 1, 'gentle-touch': 1, 'touch': 1, 'listening.': 1, 'threw': 1, 'window': 1, 'drop': 1, 'inches': 1, 'kitchen': 1, 'counter': 1, 'cracked.i': 1, 'laughing.': 1, 'trunk,': 1, 'call,': 1, 'carried': 1, 'conversation': 1, 'hitch.': 1, 'small,': 1, 'sleek,': 1, 'practical': 1, 'ample': 1, 'place.': 1, 'channel': 1, 'directly': 1, 'increase': 1, 'ones': 1, 'properly.': 1, 'missed': 1, 'defective,': 1, 'sucked,': 1, 'shifting,': 1, 'bubbling,': 1, 'peeling,': 1, 'scratch,': 1, 'nothing!i': 1, 'droid.': 1, 'used....': 1, 'zero': 1, 'exercise': 1, 'frustration.': 1, 'flimsy': 1, 'earset': 1, 'outgoing,': 1, 'better.': 1, 'total': 1, 'package.': 1, 'understanding': 1, 'patient,': 1, 'wirefly': 1, 'star.i': 1, 'contact': 1, 'cingular/at&t;': 1, 'inform': 1, 'practice.': 1, 'aggravating!': 1, 'price!.': 1, 'family': 1, 'friends,': 1, 'enjoy': 1, 'virgin': 1, 'phone!': 1, 'works,': 1, 'muddy,': 1, 'casing': 1, \"wire's\": 1, 'insert': 1, 'glued': 1, 'slid': 1, \"isn't\": 1, 'plantronincs': 1, 'continues': 1, 'flawed': 1, 'disapointing': 1, 'results.': 1, 'cumbersome': 1, 'good,': 1, 'expected!!!!': 1, 'crap!': 1, 'terrible.....': 1, 'fourth': 1, '(which': 1, 'hated!!!': 1, 'fixes': 1, 'accessing': 1, 'downloading': 1, 'performing': 1, 'functions.': 1, 'constantly': 1, 'saying': 1, '\"what?\"': 1, 'unacceptable.': 1, 'joke.': 1, 'due': 1, 'happening': 1, 'stop': 1, 'adapters': 1, 'walked': 1, 'procedures,': 1, 're-set,': 1, 'wiping': 1, 'data.': 1, 'strength,': 1, 'plays': 1, 'louder': 1, 'size;': 1, 'lacking,': 1, 'expected.': 1, 'constructed,': 1, 'menus': 1, 'navigate,': 1, 'recessed': 1, \"on.i'd\": 1, 'avoiding': 1, 'days,': 1, 'broken...i': 1, 'smoking.': 1, 'linked': 1, 'effort.': 1, 'cool!': 1, 'possesed': 1, 'junk,': 1, 'idea...': 1, 'trash.': 1, 'amazon,': 1, 'recommend.': 1, 'research': 1, 'development': 1, 'division': 1, 'knows': 1, \"they're\": 1, 'doing.': 1, 'killer': 1, 'volume,': 1, 'course': 1, 'breaking.': 1, 'construction.': 1, 'infuriating.': 1, 'walkman.': 1, 'charges': 1, 'cheap,': 1, 'on.': 1, 'europe': 1, 'asia.': 1, 'clipping': 1, 'deffinitely': 1, '50': 1, \"cent's\": 1, 'up-and-coming.': 1, 'behing': 1, '5020': 1, 'comfortible': 1, '24': 1, 'pain': 1, 'quick': 1, 'arrival': 1, 'fraction': 1, 'samsung...crap.....': 1, 'crappy': 1, 'e715..': 1, 'seeen.': 1, 'stopped': 1, 'however': 1, 'needed': 1, 'instructions.': 1, 'screen.this': 1, 'interface': 1, 'decade': 1, 'compete': 1, 'designs.': 1, '700w': 1, '(using': 1, 'transceiver).': 1, 'steer': 1, 'genuine': 1, 'replacementr': 1, 'pens,': 1, 'three-pack.': 1, 'buyit': 1, 'sucks': 1, 'product.....': 1, 'beats': 1, 'fingers!.': 1, 'seriously': 1, 'believe': 1, 'steep': 1, 'point.': 1, 'normally': 1, 'apart': 1, 'haul.': 1, 'dissapointing': 1, 'brand.': 1, 'originally': 1, 'discarded': 1, 'brand': 1, 'phones/mp3': 1, 'players': 1, 'store.': 1, 'posted': 1, 'detailed': 1, 'comments': 1, 'grey': 1, 'color!': 1, 'needed.': 1, 'guess.': 1, 'this,': 1, 'existing': 1, 'cds': 1, 'connection.': 1, 'surprised': 1, 'fabulous!': 1, 'currently': 1, 'games': 1, 'first-person': 1, 'shooters': 1, 'delay': 1, 'messes': 1, 'bitpim': 1, '(a': 1, 'program': 1, 'internet)to': 1, 'transfer': 1, 'phone.the': 1, 'accessory': 1, 'manufacturer.': 1, 'performed': 1, 'muffled,': 1, 'incoming': 1, 'severe': 1, 'wind-resistant.': 1, 'service,': 1, 'for.': 1, 'forever,': 1, 'overly': 1, 'replace.easy': 1, 'tried.': 1, 'contacted': 1, 'warranty,': 1, 'produce': 1, 'receipt': 1, 'luck.': 1, 'linksys': 1, 'exchange': 1, 'refurb': 1, 'something!': 1, 'bar': 1, 'are.': 1, 'snug,': 1, 'pleased.': 1, 'earpiece': 1, 'heavy...it': 1, 'keeps': 1, 'falling': 1, 'utter': 1, 'crap..': 1, 'promised': 1, 'loop': 1, 'needed,': 1, 'tiny': 1, 'finally,': 1, 'four': 1, 'latch': 1, 'visor.': 1, 'address': 1, 'book,': 1, 'reboots.overall,': 1, 'rate': 1, 'high.': 1, '\"tinny.\".': 1, 'tungsten': 1, 'e2': 1, 'in.': 1, 'purchase-': 1, 'flipphones.': 1, 'well-designed': 1, 'color.': 1, 'disappointment!!': 1, 'smoothly.': 1, 'study': 1, 'interested': 1, '\"worst': 1, 'sins\"': 1, 'industrial': 1, 'happened': 1, 'tracking': 1, 'made,': 1, 'handy,': 1, 'detachable': 1, 'continue': 1, 'periodically': 1, 'somehow': 1, 'dropping.': 1, 'upload': 1, 'party.': 1, 'locks': 1, 'up,': 1, 'screens': 1, 'randomly': 1, 'locked.': 1, 'truly': 1, '325': 1, 'cellphone,': 1, 'worn-out': 1, 'ringer': 1, 'choices': 1, 'loud).': 1, 'acceptable.': 1, 'balance': 1, 'clearly': 1, 'ready': 1, 'prime': 1, 'looks,': 1, 'coming': 1, 'worthless.': 1, 'upbeat!': 1, 'forgeries': 1, 'abound!.': 1, 'explain': 1, 'jack': 1, 'service!': 1, 'ca-42': 1, 'smallest': 1, 'stays': 1, 'biggest': 1, 'drains': 1, 'superfast.': 1, 'ergonomic': 1, 'theory': 1, 'stand': 1, 'holster.': 1, 'clips.': 1, 'occupied,': 1, 'distracting': 1, 'hour': 1, 'entire': 1, 'day.': 1, 'except': 1, 'cbr': 1, 'mp3s,': 1, 'preferably': 1, 'ripped': 1, 'windows': 1, 'media': 1, 'beat': 1, '*': 1, 'shots,': 1, 'sos': 1, 'signals': 1, '(seriously!': 1, 'beware.': 1, 'connect': 1, 'mini-usb': 1, 'pc.': 1, 'near': 1, 'conversation.': 1, 'open': 1, 'allowing': 1, 'startac': 1, 'regretted': 1, 'since.': 1, 'outperform': 1, 'china': 1, 'v325i.': 1, 'numbers': 1, 'sim.': 1, '3o': 1, 'minutes,': 1, 'phone.my': 1, '\"r\"': 1, 'best!.': 1, 'crashed': 1, 'replaced.': 1, 'quit': 1, '18': 1, 'owned.': 1, '4s,': 1, 'connecting': 1, 'multiple': 1, 'sources': 1, '(imac,': 1, 'external': 1, 'outlet,': 1, 'etc).': 1, 'elsewhere': 1, 'bells': 1, 'whistles': 1, 'mediocre.': 1, 'value,': 1, 'via': 1, 'usb,': 1, 'slide': 1, 'grip': 1, 'prevents': 1, 'slipping': 1, 'quality!': 1, 'one!this': 1, 'me!': 1, 'span': 1, 'hour,': 1, 'exclaim': 1, '\"whoa': 1, 'tv?!?': 1, 'corded': 1, 'freedom': 1, 'passed': 1, 'mark': 1, 'shows': 1, 'signs': 1, 'wear,': 1, '100%': 1, 'functional.': 1, 'soft;': 1, 'tight;': 1, 'shape.': 1, 'broke.': 1, 'great...': 1, 'copier': 1, 'waiting': 1, 'something.': 1, 'sent': 1, 'anywhere.': 1, 'sold.': 1, 'units': 1, 'failed': 1, 'months..': 1, 'pros': 1, 'provides': 1, 'classy,': 1, 'krussel': 1, 'tracfonewebsite': 1, 'friendly': 1, 'toactivate,': 1, 'etc.': 1, 'good.4.': 1, 'sunglasses,': 1, 'texas!': 1, 'dit': 1, '5320.': 1, 'mainly': 1, 'soon': 1, 'purchasing.': 1, 'whatever': 1, 'store,': 1, 'careful.': 1, 'blueant': 1, 'supertooth': 1, 'hands-free': 1, 'metro': 1, 'pcs': 1, 'sch-r450': 1, 'slider': 1, 'premium': 1, 'plugs.': 1, 'plenty': 1, 'capacity,': 1, 'confortable': 1, 'somewhat': 1, 'periods': 1, 'ant': 1, 'hey': 1, 'works..': 1, 'pleasantly': 1, 'suprised': 1, 'cost': 1, 'dustpan': 1, 'indoors...': 1, 'disposable': 1, 'puff': 1, 'smoke': 1, 'convenient': 1, 'done': 1, 'ride': 1, 'smoother.': 1, 'nano': 1, 'it.my': 1, 'son': 1, 'dissapointed.': 1, 'reccommend.': 1, 'carries': 1, 'highest': 1, 'anti-glare': 1, 'protector': 1, 'date.': 1, 'model': 1, 'q': 1, 'smartphone.': 1, 'wont': 1, 'atleast': 1, 'addition': 1, '&amp;': 1, 'plastic.': 1, '\"out': 1, 'warranty\"': 1, 'reoccure.bottom': 1, 'line...': 1, 'somewhere': 1, 'else...': 1, 'wanted': 1, 'one,': 1, 'issues': 1, 'me.the': 1, 'clear.': 1, '12': 1, 'minutes.': 1, 'plastic,': 1, 'creaks': 1, 'wooden': 1, 'floor.': 1, 'apartment,': 1, 'generally': 1, 'inconspicuous': 1, 'boot!.': 1, 'bluetooth!.': 1, 'worthwhile.': 1, 'old,': 1, 'slowly': 1, 'breaking': 1, 'part.': 1, 'sorry': 1, 'impossible': 1, 'wear.': 1, 'refused': 1, 'upgrade': 1, 'discount.': 1, 'horrible!.': 1, 'securly': 1, 'belt.': 1, 'possibility': 1, 'double': 1, 'booking': 1, 'date': 1, 'first.': 1, 'break.': 1, 'entertainment,': 1, 'communication,': 1, 'management.oh,': 1, 'activesync': 1, '4.2': 1, 'optimal': 1, 'synchronization': 1, 'results!': 1, 'disgusting.': 1, 'another.': 1, 'coupon': 1, 'rare': 1, 'instance': 1, 'perfect': 1, 'ps3.': 1, 'five': 1, 'plus.': 1, 'bargain..': 1, 'cheapy': 1, 'lots': 1, '$50': 1, 'drain.': 1, 'talking': 1, 'shouting': 1, 'telephone': 1, 'price,': 1, 'wind,': 1, 'useless.': 1, 'yes': 1, 'shiny': 1, 'grtting': 1, 'deal': 1, '$7.44,': 1, 'until': 1, '(v3c': 1, 'razr).': 1, 'thumbs': 1, 'together,': 1, 'exceeds': 1, 'sight.': 1, 'improper': 1, 'description....': 1, '#1': 1, '#2': 1, 'charge-life': 1, 'checked': 1, 'everywhere': 1, \"won't.\": 1, 'job.': 1, 'ordering': 1, 'said,': 1, 'nice;': 1, 'effects': 1, 'with,': 1, '(this': 1, 'palms': 1, 'too).': 1, 'awkward': 1, 'unreliable.': 1, 'quick!': 1, 'hoped.': 1, 'case!.': 1, 'father': 1, 'v265,': 1, 'pads': 1, 'drop,': 1, 'will,': 1, 'stops': 1, 'intermittently.': 1, 'protector.': 1, 'reaching': 1, 'bottom': 1, 'row': 1, 'uncomfortable,': 1, 'keys': 1, 'be.3.': 1, 'nightmare.': 1, 'describe': 1, 'speakerphone!!!!': 1, 'terrible..': 1, 'cassette.': 1, 'useless,': 1, 'current': 1, 'cellphones': 1, 'planning': 1, 'q!.': 1, 'dirty.': 1, 'nice.': 1, 'tool,': 1, 'auto-answer.': 1, 'read': 1, \"other's\": 1, \"haven't\": 1, 'products': 1, 'sensor': 1, 'reliability.': 1, '(it': 1, 'works!)': 1, 'bar,': 1, 'beeping,': 1, 'letting': 1, 'dieing.': 1, 'money!': 1, 'you.': 1, 'charm.': 1, 'but,': 1, 'ir,': 1, 'choice': 1, 'years.great': 1, 'sound;': 1, 'volume;': 1, 'cancellation.': 1, 'hands.': 1, 'counterfeit.': 1, 'good..': 1, 'see': 1, 'travled': 1, 'swivel': 1, 'flip.': 1, 'sister': 1, 'dual-purpose': 1, 'excellent!.': 1, 'listening': 1, '8125.': 1, 'keeping': 1, 'bottowm': 1, 'line...another': 1, 'worthless,': 1, 'gimmick': 1, 'sprint.': 1, 'buy!!.': 1, 'iphone,': 1, 'opens,': 1, 'broken': 1, 'clip': 1, 'top': 1, 'causing': 1, 'discomfort.': 1, 'ever!!!.': 1, 'trust': 1, 'loud.glad': 1, 'maintains': 1, 'flawless': 1, 'comfortably,': 1, 'tips.': 1, 'crap!!!!!!': 1, 'fails!.': 1, 'wrong.first': 1, 'devices': 1, 'feature.': 1, 'utterly': 1, 'confusing': 1, 'first,': 1, 'very,': 1, 'contacts.': 1, 'holder.': 1, 'cutouts': 1, 'land-line': 1, 'loops': 1, 'material': 1, 'look.': 1, 'flaws,': 1, 'exceptional': 1, 'owning': 1, 'official': 1, 'oem': 1, 'that?': 1, 'driving': 1, 'loudest': 1, 'setting.': 1, 'cheaper': 1, 'competitors.': 1, 'show,': 1, 'samsung.': 1, 'saved': 1, 'alot': 1, 'cuts': 1, 'figure': 1, 'ok': 1, '(': 1, 'ok),': 1, 'totally': 1, 'unintelligible,': 1, 'word': 1, 'together': 1, 'restart': 1, 'managed': 1, 'bend': 1, 'leaf': 1, 'place,': 1, 'metal': 1, 'stress': 1, 'drop.': 1, 'leopard': 1, 'print': 1, 'wonderfully': 1, 'wild!.': 1, 'saggy,': 1, 'floppy': 1, 'far!.': 1, 'looses': 1, 'two.': 1, 'above....pretty': 1, 'useless!': 1, 'it!!!!!': 1, 'sound-wise.': 1, '[...]': 1, 'snap!': 1, '(att)': 1, '8525': 1, 'carry': 1, 'off.\"': 1, 'year,': 1, 'fliptop': 1, 'loose': 1, 'wobbly': 1, 'eventually': 1, 'receive': 1, 'catching': 1, 'seat': 1, 'fulfills': 1, 'requirements': 1, '10!.': 1, 'fact': 1, 'rests': 1, 'lightly': 1, 'against': 1, 'websites': 1, 'rating': 1, 'i.': 1, 'cables': 1, 'joke,': 1, 'low.': 1, 'lap.': 1, 'controls': 1, 'accessable.': 1, 'mine': 1, 'christmas': 1, 'rest': 1, 'otherwise,': 1, 'install': 1, 'leather.': 1, 'joy': 1, 'company.': 1, 'satisifed': 1, 'that.': 1, '2005....': 1, 's710a': 1, 'wow!': 1, 'small.': 1, 'specs': 1, 'alone': 1, 'wow.': 1, 'it..': 1, 'armband.': 1, 'allot': 1, 'clearer': 1, 'mic.': 1, 'keypads': 1, 'sometimes': 1, 'reach': 1, 'buttons.': 1, 'ericson': 1, 'z500a': 1, 'to.': 1, 'motor': 1, 'control': 1, 'center': 1, 'voltage': 1, 'humming': 1, 'equipment,': 1, 'certain': 1, 'places.': 1, 'girl': 1, 'complain': 1, 'wake': 1, 'styling': 1, 'though.': 1, 'restocking': 1, 'fee': 1, 'refund.': 1, 'darn': 1, 'lousy': 1, 'fails': 1, 'seen': 1, 'yet.': 1, 'sweetest': 1, 'phone!!!': 1, ':-)oh,': 1, 'securely': 1, 'hook': 1, 'directed': 1, 'canal.': 1, 'problem....very': 1, 'unsatisfactory': 1, 'videos': 1, 'negatively': 1, 'adapter': 1, 'provide': 1, 'current.': 1, 'hype': 1, 'assumed': 1, 'mistake.': 1, 'lense': 1, 'covered.': 1, 'falls': 1, 'text': 1, 'messaging': 1, 'tricky': 1, 'painful': 1, 'lasted': 1, 'blew': 1, 'flops': 1, 'around.': 1, 'smudged': 1, 'touches': 1, 'face.': 1, 'junk..': 1, 'picture.': 1, 'disappoint': 1, 'infra': 1, 'port': 1, '(irda).': 1, 'answer': 1, 'unit,': 1, 'once!': 1})\n"
     ]
    }
   ],
   "source": [
    "from collections import Counter\n",
    "counts = Counter(list2)\n",
    "print(counts)"
   ]
  },
  {
   "cell_type": "code",
   "execution_count": 18,
   "metadata": {},
   "outputs": [],
   "source": [
    "#pd.concat([df1,df2])"
   ]
  },
  {
   "cell_type": "code",
   "execution_count": 20,
   "metadata": {},
   "outputs": [],
   "source": [
    "keywords = ['phone', 'very', 'battery', 'good', 'have', 'sound', 'works', 'great', 'product', 'use', 'like', 'recommend', 'really']\n",
    "sms_raw['allcaps'] = sms_raw.message.str.isupper()\n",
    "\n",
    "for key in keywords:\n",
    "    # Note that we add spaces around the key so that we're getting the word,\n",
    "    # not just pattern matching.\n",
    "    sms_raw[str(key)] = sms_raw.message.str.contains(\n",
    "        ' ' + str(key) + ' ',\n",
    "        case=False\n",
    "    )\n",
    "sms_raw[['phone', 'very', 'battery', 'good', 'have', 'sound', 'works', 'great', 'product', 'use', 'like', 'recommend', 'really', 'allcaps']] = sms_raw[['phone', 'very', 'battery', 'good', 'have', 'sound', 'works', 'great', 'product', 'use', 'like', 'recommend', 'really', 'allcaps']].astype(int)\n"
   ]
  },
  {
   "cell_type": "code",
   "execution_count": 21,
   "metadata": {},
   "outputs": [],
   "source": [
    "data = sms_raw[keywords + ['allcaps']]\n",
    "target = sms_raw['label']"
   ]
  },
  {
   "cell_type": "code",
   "execution_count": 22,
   "metadata": {},
   "outputs": [
    {
     "name": "stdout",
     "output_type": "stream",
     "text": [
      "Number of mislabeled points out of a total 1000 points : 375\n"
     ]
    }
   ],
   "source": [
    "# Our data is binary / boolean, so we're importing the Bernoulli classifier.\n",
    "from sklearn.naive_bayes import BernoulliNB\n",
    "\n",
    "# Instantiate our model and store it in a new variable.\n",
    "bnb = BernoulliNB()\n",
    "\n",
    "# Fit our model to the data.\n",
    "bnb.fit(data, target)\n",
    "\n",
    "# Classify, storing the result in a new variable.\n",
    "y_pred = bnb.predict(data)\n",
    "\n",
    "# Display our results.\n",
    "print(\"Number of mislabeled points out of a total {} points : {}\".format(\n",
    "    data.shape[0],\n",
    "    (target != y_pred).sum()\n",
    "))"
   ]
  },
  {
   "cell_type": "code",
   "execution_count": 23,
   "metadata": {},
   "outputs": [
    {
     "data": {
      "text/plain": [
       "array([0.63, 0.6 , 0.68, 0.61, 0.56, 0.64, 0.63, 0.57, 0.61, 0.54])"
      ]
     },
     "execution_count": 23,
     "metadata": {},
     "output_type": "execute_result"
    }
   ],
   "source": [
    "from sklearn.model_selection import cross_val_score\n",
    "cross_val_score(bnb, data, target, cv=10)"
   ]
  },
  {
   "cell_type": "code",
   "execution_count": 24,
   "metadata": {},
   "outputs": [
    {
     "name": "stdout",
     "output_type": "stream",
     "text": [
      "With 20% Holdout: 0.61\n"
     ]
    }
   ],
   "source": [
    "from sklearn.model_selection import train_test_split\n",
    "# Use train_test_split to create the necessary training and test groups\n",
    "X_train, X_test, y_train, y_test = train_test_split(data, target, test_size=0.2, random_state=20)\n",
    "print('With 20% Holdout: ' + str(bnb.fit(X_train, y_train).score(X_test, y_test)))"
   ]
  },
  {
   "cell_type": "code",
   "execution_count": null,
   "metadata": {},
   "outputs": [],
   "source": []
  },
  {
   "cell_type": "code",
   "execution_count": null,
   "metadata": {},
   "outputs": [],
   "source": []
  },
  {
   "cell_type": "code",
   "execution_count": null,
   "metadata": {},
   "outputs": [],
   "source": []
  }
 ],
 "metadata": {
  "kernelspec": {
   "display_name": "Python 3",
   "language": "python",
   "name": "python3"
  },
  "language_info": {
   "codemirror_mode": {
    "name": "ipython",
    "version": 3
   },
   "file_extension": ".py",
   "mimetype": "text/x-python",
   "name": "python",
   "nbconvert_exporter": "python",
   "pygments_lexer": "ipython3",
   "version": "3.7.2"
  }
 },
 "nbformat": 4,
 "nbformat_minor": 2
}
